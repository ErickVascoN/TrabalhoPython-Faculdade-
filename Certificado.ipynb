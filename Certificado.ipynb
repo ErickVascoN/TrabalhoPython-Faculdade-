{
 "cells": [
  {
   "cell_type": "code",
   "execution_count": 5,
   "metadata": {},
   "outputs": [
    {
     "name": "stdout",
     "output_type": "stream",
     "text": [
      "Certificado gerado para João Silva e salvo como 'certificado_João_Silva.png'.\n",
      "Certificado gerado para Maria Oliveira e salvo como 'certificado_Maria_Oliveira.png'.\n",
      "Certificado gerado para Pedro Alves e salvo como 'certificado_Pedro_Alves.png'.\n",
      "Certificado gerado para Ana Costa e salvo como 'certificado_Ana_Costa.png'.\n",
      "Certificado gerado para Lucas Luco e salvo como 'certificado_Lucas_Luco.png'.\n",
      "Processo concluído.\n"
     ]
    }
   ],
   "source": [
    "import os\n",
    "from openpyxl import Workbook, load_workbook\n",
    "from openpyxl.drawing.image import Image\n",
    "from PIL import Image as PilImage, ImageDraw, ImageFont\n",
    "import datetime\n",
    "\n",
    "arquivo_excel = \"certificados.xlsx\"\n",
    "\n",
    "if not os.path.exists(arquivo_excel):\n",
    "    \n",
    "    wb = Workbook() \n",
    "    ws = wb.active  \n",
    "    ws.title = \"Alunos\"\n",
    "    \n",
    "    ws.append([\"Nome do Aluno\", \"Curso\", \"Carga Horária\", \"Data\"])\n",
    "    \n",
    "    alunos = [\n",
    "        [\"João Silva\", \"Engenharia de Software\", \"40 horas\", \"2024-11-01\"],\n",
    "        [\"Maria Oliveira\", \"Ciência de Dados\", \"30 horas\", \"2024-11-02\"],\n",
    "        [\"Pedro Alves\", \"Desenvolvimento Web\", \"35 horas\", \"2024-11-03\"],\n",
    "        [\"Ana Costa\", \"Inteligência Artificial\", \"50 horas\", \"2024-11-04\"],\n",
    "        [\"Lucas Luco\", \"Segurança da Informação\", \"45 horas\", \"2024-11-05\"],\n",
    "    ]\n",
    "\n",
    "    for aluno in alunos:\n",
    "        ws.append(aluno)\n",
    "    \n",
    "    wb.save(arquivo_excel)\n",
    "    print(\"Arquivo 'certificados.xlsx' criado com sucesso!\")\n",
    "else:\n",
    "   \n",
    "    wb = load_workbook(arquivo_excel)\n",
    "    ws = wb.active\n",
    "    \n",
    "    for row in ws.iter_rows(min_row=2, values_only=True):\n",
    "        nome, curso, carga_horaria, data = row\n",
    "        \n",
    "        largura, altura = 800, 600\n",
    "        certificado = PilImage.new(\"RGB\", (largura, altura), \"white\")\n",
    "        draw = ImageDraw.Draw(certificado)\n",
    "        \n",
    "        logo = PilImage.open(\"FIB-logo.png\") \n",
    "        logo.thumbnail((100, 100))\n",
    "        certificado.paste(logo, (50, 50))\n",
    "        \n",
    "        fonte = ImageFont.truetype(\"arial.ttf\", 20)  \n",
    "        draw.text((200, 100), \"Certificado de Conclusão\", fill=\"black\", font=fonte)\n",
    "        \n",
    "        texto = f\"Certificamos que {nome} concluiu o curso de {curso},\\ncom carga horária de {carga_horaria}, em {data}.\"\n",
    "        draw.text((100, 300), texto, fill=\"black\", font=fonte)\n",
    "        \n",
    "        nome_arquivo = f\"certificado_{nome.replace(' ', '_')}.png\"\n",
    "        certificado.save(nome_arquivo)\n",
    "        print(f\"Certificado gerado para {nome} e salvo como '{nome_arquivo}'.\")\n",
    "\n",
    "print(\"Processo concluído.\")\n"
   ]
  }
 ],
 "metadata": {
  "kernelspec": {
   "display_name": "Python 3",
   "language": "python",
   "name": "python3"
  },
  "language_info": {
   "codemirror_mode": {
    "name": "ipython",
    "version": 3
   },
   "file_extension": ".py",
   "mimetype": "text/x-python",
   "name": "python",
   "nbconvert_exporter": "python",
   "pygments_lexer": "ipython3",
   "version": "3.11.9"
  }
 },
 "nbformat": 4,
 "nbformat_minor": 2
}
